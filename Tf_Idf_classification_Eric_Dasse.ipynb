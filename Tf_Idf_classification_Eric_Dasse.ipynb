{
 "cells": [
  {
   "cell_type": "markdown",
   "metadata": {
    "colab_type": "text",
    "id": "so-L6lx14jPh"
   },
   "source": [
    "# Business Opportunities Detector"
   ]
  },
  {
   "cell_type": "markdown",
   "metadata": {
    "colab_type": "text",
    "id": "EseVfFZb4_BZ"
   },
   "source": [
    "The aim of this project is to create a model able of to correctly say if an article from a journal is about the earnings of a journal or not (**business opportunity**). The procedure to create the model is broken down to the following steps: **data collection**, **data preprocessing**, **data visualisation**, **classification** and finally **evaluation**"
   ]
  },
  {
   "cell_type": "markdown",
   "metadata": {
    "colab_type": "text",
    "id": "8zNLkJwSnG5E"
   },
   "source": [
    "## Data Collection"
   ]
  },
  {
   "cell_type": "markdown",
   "metadata": {
    "colab_type": "text",
    "id": "jcmc8jlW5iFJ"
   },
   "source": [
    "In this step, we will build a corpus by collecting the text content from the XML files referred to in *train.csv*. This will pose as the training set. We will also keep the labels and the id of the associated XML files"
   ]
  },
  {
   "cell_type": "code",
   "execution_count": 1,
   "metadata": {
    "colab": {},
    "colab_type": "code",
    "id": "wjNXAOa3nG5c",
    "outputId": "49cbf535-0db4-411b-83d6-12d16646d1c0"
   },
   "outputs": [
    {
     "data": {
      "text/html": [
       "<div>\n",
       "<style scoped>\n",
       "    .dataframe tbody tr th:only-of-type {\n",
       "        vertical-align: middle;\n",
       "    }\n",
       "\n",
       "    .dataframe tbody tr th {\n",
       "        vertical-align: top;\n",
       "    }\n",
       "\n",
       "    .dataframe thead th {\n",
       "        text-align: right;\n",
       "    }\n",
       "</style>\n",
       "<table border=\"1\" class=\"dataframe\">\n",
       "  <thead>\n",
       "    <tr style=\"text-align: right;\">\n",
       "      <th></th>\n",
       "      <th>id</th>\n",
       "      <th>text</th>\n",
       "      <th>label</th>\n",
       "    </tr>\n",
       "  </thead>\n",
       "  <tbody>\n",
       "    <tr>\n",
       "      <th>0</th>\n",
       "      <td>1</td>\n",
       "      <td>Showers continued throughout the week in\\nthe ...</td>\n",
       "      <td>0</td>\n",
       "    </tr>\n",
       "    <tr>\n",
       "      <th>1</th>\n",
       "      <td>2</td>\n",
       "      <td>Standard Oil Co and BP North America\\nInc said...</td>\n",
       "      <td>0</td>\n",
       "    </tr>\n",
       "    <tr>\n",
       "      <th>2</th>\n",
       "      <td>3</td>\n",
       "      <td>Texas Commerce Bancshares Inc's Texas\\nCommerc...</td>\n",
       "      <td>0</td>\n",
       "    </tr>\n",
       "    <tr>\n",
       "      <th>3</th>\n",
       "      <td>4</td>\n",
       "      <td>BankAmerica Corp is not under\\npressure to act...</td>\n",
       "      <td>0</td>\n",
       "    </tr>\n",
       "    <tr>\n",
       "      <th>4</th>\n",
       "      <td>5</td>\n",
       "      <td>The U.S. Agriculture Department\\nreported the ...</td>\n",
       "      <td>0</td>\n",
       "    </tr>\n",
       "    <tr>\n",
       "      <th>5</th>\n",
       "      <td>6</td>\n",
       "      <td>Argentine grain board figures show\\ncrop regis...</td>\n",
       "      <td>0</td>\n",
       "    </tr>\n",
       "    <tr>\n",
       "      <th>6</th>\n",
       "      <td>7</td>\n",
       "      <td>Red Lion Inns Limited Partnership\\nsaid it fil...</td>\n",
       "      <td>0</td>\n",
       "    </tr>\n",
       "    <tr>\n",
       "      <th>7</th>\n",
       "      <td>8</td>\n",
       "      <td>Moody's Investors Service Inc said it\\nlowered...</td>\n",
       "      <td>0</td>\n",
       "    </tr>\n",
       "    <tr>\n",
       "      <th>8</th>\n",
       "      <td>9</td>\n",
       "      <td>Champion Products Inc said its\\nboard of direc...</td>\n",
       "      <td>1</td>\n",
       "    </tr>\n",
       "    <tr>\n",
       "      <th>9</th>\n",
       "      <td>10</td>\n",
       "      <td>Computer Terminal Systems Inc said\\nit has com...</td>\n",
       "      <td>0</td>\n",
       "    </tr>\n",
       "    <tr>\n",
       "      <th>10</th>\n",
       "      <td>11</td>\n",
       "      <td>Shr 34 cts vs 1.19 dlrs\\n    Net 807,000 vs 2,...</td>\n",
       "      <td>1</td>\n",
       "    </tr>\n",
       "    <tr>\n",
       "      <th>11</th>\n",
       "      <td>12</td>\n",
       "      <td>Ohio Mattress Co said its first\\nquarter, endi...</td>\n",
       "      <td>1</td>\n",
       "    </tr>\n",
       "    <tr>\n",
       "      <th>12</th>\n",
       "      <td>13</td>\n",
       "      <td>Oper shr loss two cts vs profit seven cts\\n   ...</td>\n",
       "      <td>1</td>\n",
       "    </tr>\n",
       "    <tr>\n",
       "      <th>13</th>\n",
       "      <td>14</td>\n",
       "      <td>Shr one dlr vs 73 cts\\n    Net 12.6 mln vs 15....</td>\n",
       "      <td>1</td>\n",
       "    </tr>\n",
       "    <tr>\n",
       "      <th>14</th>\n",
       "      <td>15</td>\n",
       "      <td>National Intergroup Inc said it plans\\nto file...</td>\n",
       "      <td>0</td>\n",
       "    </tr>\n",
       "    <tr>\n",
       "      <th>15</th>\n",
       "      <td>16</td>\n",
       "      <td>BankAmerica Corp is not under\\npressure to act...</td>\n",
       "      <td>0</td>\n",
       "    </tr>\n",
       "    <tr>\n",
       "      <th>16</th>\n",
       "      <td>17</td>\n",
       "      <td>National Health Enhancement\\nSystems Inc said ...</td>\n",
       "      <td>0</td>\n",
       "    </tr>\n",
       "    <tr>\n",
       "      <th>17</th>\n",
       "      <td>18</td>\n",
       "      <td>Dean Foods Co expects earnings for the\\nfourth...</td>\n",
       "      <td>1</td>\n",
       "    </tr>\n",
       "    <tr>\n",
       "      <th>18</th>\n",
       "      <td>19</td>\n",
       "      <td>The Commodity Credit Corporation, CCC,\\nhas ac...</td>\n",
       "      <td>0</td>\n",
       "    </tr>\n",
       "    <tr>\n",
       "      <th>19</th>\n",
       "      <td>21</td>\n",
       "      <td>Hughes/Conserdyne Corp, a\\nunit of &lt;Hughes Cap...</td>\n",
       "      <td>0</td>\n",
       "    </tr>\n",
       "    <tr>\n",
       "      <th>20</th>\n",
       "      <td>22</td>\n",
       "      <td>Magma Copper Co, a subsidiary of Newmont\\nMini...</td>\n",
       "      <td>0</td>\n",
       "    </tr>\n",
       "    <tr>\n",
       "      <th>21</th>\n",
       "      <td>23</td>\n",
       "      <td>Brown-Forman Inc said its board\\nhas approved ...</td>\n",
       "      <td>1</td>\n",
       "    </tr>\n",
       "    <tr>\n",
       "      <th>22</th>\n",
       "      <td>24</td>\n",
       "      <td>Shr profit 15 cts vs profit four cts\\n    Annu...</td>\n",
       "      <td>1</td>\n",
       "    </tr>\n",
       "    <tr>\n",
       "      <th>23</th>\n",
       "      <td>25</td>\n",
       "      <td>Shearson Lehman Brothers, a unit of\\nAmerican ...</td>\n",
       "      <td>0</td>\n",
       "    </tr>\n",
       "    <tr>\n",
       "      <th>24</th>\n",
       "      <td>26</td>\n",
       "      <td>Venezuela and its bank advisory\\ncommittee hav...</td>\n",
       "      <td>0</td>\n",
       "    </tr>\n",
       "    <tr>\n",
       "      <th>25</th>\n",
       "      <td>27</td>\n",
       "      <td>Shr 39 cts vs 50 cts\\n    Net 1,545,160 vs 2,1...</td>\n",
       "      <td>1</td>\n",
       "    </tr>\n",
       "    <tr>\n",
       "      <th>26</th>\n",
       "      <td>28</td>\n",
       "      <td>The Tower Commission report, which\\nsays Presi...</td>\n",
       "      <td>0</td>\n",
       "    </tr>\n",
       "    <tr>\n",
       "      <th>27</th>\n",
       "      <td>29</td>\n",
       "      <td>Sales of previously owned homes\\ndropped 14.5 ...</td>\n",
       "      <td>0</td>\n",
       "    </tr>\n",
       "    <tr>\n",
       "      <th>28</th>\n",
       "      <td>30</td>\n",
       "      <td></td>\n",
       "      <td>0</td>\n",
       "    </tr>\n",
       "    <tr>\n",
       "      <th>29</th>\n",
       "      <td>31</td>\n",
       "      <td></td>\n",
       "      <td>0</td>\n",
       "    </tr>\n",
       "    <tr>\n",
       "      <th>...</th>\n",
       "      <td>...</td>\n",
       "      <td>...</td>\n",
       "      <td>...</td>\n",
       "    </tr>\n",
       "    <tr>\n",
       "      <th>4770</th>\n",
       "      <td>4971</td>\n",
       "      <td>Central Bank President Jose Luis\\nMachinea sai...</td>\n",
       "      <td>0</td>\n",
       "    </tr>\n",
       "    <tr>\n",
       "      <th>4771</th>\n",
       "      <td>4972</td>\n",
       "      <td>Shr loss 48 cts vs loss 10 cts\\n    Net loss 1...</td>\n",
       "      <td>1</td>\n",
       "    </tr>\n",
       "    <tr>\n",
       "      <th>4772</th>\n",
       "      <td>4973</td>\n",
       "      <td>American Motors Corp said its\\nU.S. sales for ...</td>\n",
       "      <td>0</td>\n",
       "    </tr>\n",
       "    <tr>\n",
       "      <th>4773</th>\n",
       "      <td>4974</td>\n",
       "      <td>Oper shr loss 44 cts vs oper loss eight cts\\n ...</td>\n",
       "      <td>1</td>\n",
       "    </tr>\n",
       "    <tr>\n",
       "      <th>4774</th>\n",
       "      <td>4975</td>\n",
       "      <td>J.P. Morgan and Co said Peter F.\\nCulver, 42, ...</td>\n",
       "      <td>0</td>\n",
       "    </tr>\n",
       "    <tr>\n",
       "      <th>4775</th>\n",
       "      <td>4976</td>\n",
       "      <td>SmartNames Inc said it reached\\nan agreement i...</td>\n",
       "      <td>0</td>\n",
       "    </tr>\n",
       "    <tr>\n",
       "      <th>4776</th>\n",
       "      <td>4977</td>\n",
       "      <td></td>\n",
       "      <td>0</td>\n",
       "    </tr>\n",
       "    <tr>\n",
       "      <th>4777</th>\n",
       "      <td>4978</td>\n",
       "      <td>&lt;/BODY&gt;Auxton Computer Enterprises Inc\\nsaid i...</td>\n",
       "      <td>0</td>\n",
       "    </tr>\n",
       "    <tr>\n",
       "      <th>4778</th>\n",
       "      <td>4979</td>\n",
       "      <td>Standard and Poor's Corp said it\\nexpects the ...</td>\n",
       "      <td>0</td>\n",
       "    </tr>\n",
       "    <tr>\n",
       "      <th>4779</th>\n",
       "      <td>4980</td>\n",
       "      <td>H.K. Porter Inc Co said it will\\nredeem its 5-...</td>\n",
       "      <td>0</td>\n",
       "    </tr>\n",
       "    <tr>\n",
       "      <th>4780</th>\n",
       "      <td>4981</td>\n",
       "      <td>Atlantic Richfield Co said it sold\\nits Plan C...</td>\n",
       "      <td>0</td>\n",
       "    </tr>\n",
       "    <tr>\n",
       "      <th>4781</th>\n",
       "      <td>4982</td>\n",
       "      <td>GTE Corp said it supports\\nrecommendations by ...</td>\n",
       "      <td>0</td>\n",
       "    </tr>\n",
       "    <tr>\n",
       "      <th>4782</th>\n",
       "      <td>4983</td>\n",
       "      <td>Construction workers today began building\\na 2...</td>\n",
       "      <td>0</td>\n",
       "    </tr>\n",
       "    <tr>\n",
       "      <th>4783</th>\n",
       "      <td>4984</td>\n",
       "      <td>The U.S. Agriculture Department's\\nExport Enha...</td>\n",
       "      <td>0</td>\n",
       "    </tr>\n",
       "    <tr>\n",
       "      <th>4784</th>\n",
       "      <td>4985</td>\n",
       "      <td>&lt;Drexel Burnham Lambert Inc&gt; said\\nduring  the...</td>\n",
       "      <td>0</td>\n",
       "    </tr>\n",
       "    <tr>\n",
       "      <th>4785</th>\n",
       "      <td>4986</td>\n",
       "      <td>Chrysler Corp's Chrysler Motors unit\\nsaid it ...</td>\n",
       "      <td>0</td>\n",
       "    </tr>\n",
       "    <tr>\n",
       "      <th>4786</th>\n",
       "      <td>4987</td>\n",
       "      <td>The Netherlands recorded a flat trade\\nbalance...</td>\n",
       "      <td>0</td>\n",
       "    </tr>\n",
       "    <tr>\n",
       "      <th>4787</th>\n",
       "      <td>4988</td>\n",
       "      <td>A greater than anticipated need,\\ncompetitive ...</td>\n",
       "      <td>0</td>\n",
       "    </tr>\n",
       "    <tr>\n",
       "      <th>4788</th>\n",
       "      <td>4989</td>\n",
       "      <td>Fairchild Industries Inc said\\nit will close t...</td>\n",
       "      <td>0</td>\n",
       "    </tr>\n",
       "    <tr>\n",
       "      <th>4789</th>\n",
       "      <td>4990</td>\n",
       "      <td>Qtly div 35 cts vs 35 cts previously\\n    Pay ...</td>\n",
       "      <td>1</td>\n",
       "    </tr>\n",
       "    <tr>\n",
       "      <th>4790</th>\n",
       "      <td>4991</td>\n",
       "      <td>Qtly div Class B 1-1/2 cts vs 1-1/2 cts prior\\...</td>\n",
       "      <td>1</td>\n",
       "    </tr>\n",
       "    <tr>\n",
       "      <th>4791</th>\n",
       "      <td>4992</td>\n",
       "      <td>Texas Utilities Co's TU Electric unit\\nsaid it...</td>\n",
       "      <td>0</td>\n",
       "    </tr>\n",
       "    <tr>\n",
       "      <th>4792</th>\n",
       "      <td>4993</td>\n",
       "      <td>The growth rate of Brazilian\\nindustrial outpu...</td>\n",
       "      <td>0</td>\n",
       "    </tr>\n",
       "    <tr>\n",
       "      <th>4793</th>\n",
       "      <td>4994</td>\n",
       "      <td>RJR Nabisco Inc is raising 500 mln\\ndlrs via a...</td>\n",
       "      <td>0</td>\n",
       "    </tr>\n",
       "    <tr>\n",
       "      <th>4794</th>\n",
       "      <td>4995</td>\n",
       "      <td>Britain wants Japan to agree a timetable\\nfor ...</td>\n",
       "      <td>0</td>\n",
       "    </tr>\n",
       "    <tr>\n",
       "      <th>4795</th>\n",
       "      <td>4996</td>\n",
       "      <td>Loadmaster Systems Inc said Mark\\nA Cote has b...</td>\n",
       "      <td>0</td>\n",
       "    </tr>\n",
       "    <tr>\n",
       "      <th>4796</th>\n",
       "      <td>4997</td>\n",
       "      <td>Moody's Investors Service Inc said it\\nmay dow...</td>\n",
       "      <td>0</td>\n",
       "    </tr>\n",
       "    <tr>\n",
       "      <th>4797</th>\n",
       "      <td>4998</td>\n",
       "      <td>Qtly div 15 cts vs 15 cts prior\\n    Pay April...</td>\n",
       "      <td>1</td>\n",
       "    </tr>\n",
       "    <tr>\n",
       "      <th>4798</th>\n",
       "      <td>4999</td>\n",
       "      <td>Shr 25 cts vs 18 cts\\n    Net 109,131 vs 75,79...</td>\n",
       "      <td>1</td>\n",
       "    </tr>\n",
       "    <tr>\n",
       "      <th>4799</th>\n",
       "      <td>5000</td>\n",
       "      <td></td>\n",
       "      <td>0</td>\n",
       "    </tr>\n",
       "  </tbody>\n",
       "</table>\n",
       "<p>4800 rows × 3 columns</p>\n",
       "</div>"
      ],
      "text/plain": [
       "        id                                               text  label\n",
       "0        1  Showers continued throughout the week in\\nthe ...      0\n",
       "1        2  Standard Oil Co and BP North America\\nInc said...      0\n",
       "2        3  Texas Commerce Bancshares Inc's Texas\\nCommerc...      0\n",
       "3        4  BankAmerica Corp is not under\\npressure to act...      0\n",
       "4        5  The U.S. Agriculture Department\\nreported the ...      0\n",
       "5        6  Argentine grain board figures show\\ncrop regis...      0\n",
       "6        7  Red Lion Inns Limited Partnership\\nsaid it fil...      0\n",
       "7        8  Moody's Investors Service Inc said it\\nlowered...      0\n",
       "8        9  Champion Products Inc said its\\nboard of direc...      1\n",
       "9       10  Computer Terminal Systems Inc said\\nit has com...      0\n",
       "10      11  Shr 34 cts vs 1.19 dlrs\\n    Net 807,000 vs 2,...      1\n",
       "11      12  Ohio Mattress Co said its first\\nquarter, endi...      1\n",
       "12      13  Oper shr loss two cts vs profit seven cts\\n   ...      1\n",
       "13      14  Shr one dlr vs 73 cts\\n    Net 12.6 mln vs 15....      1\n",
       "14      15  National Intergroup Inc said it plans\\nto file...      0\n",
       "15      16  BankAmerica Corp is not under\\npressure to act...      0\n",
       "16      17  National Health Enhancement\\nSystems Inc said ...      0\n",
       "17      18  Dean Foods Co expects earnings for the\\nfourth...      1\n",
       "18      19  The Commodity Credit Corporation, CCC,\\nhas ac...      0\n",
       "19      21  Hughes/Conserdyne Corp, a\\nunit of <Hughes Cap...      0\n",
       "20      22  Magma Copper Co, a subsidiary of Newmont\\nMini...      0\n",
       "21      23  Brown-Forman Inc said its board\\nhas approved ...      1\n",
       "22      24  Shr profit 15 cts vs profit four cts\\n    Annu...      1\n",
       "23      25  Shearson Lehman Brothers, a unit of\\nAmerican ...      0\n",
       "24      26  Venezuela and its bank advisory\\ncommittee hav...      0\n",
       "25      27  Shr 39 cts vs 50 cts\\n    Net 1,545,160 vs 2,1...      1\n",
       "26      28  The Tower Commission report, which\\nsays Presi...      0\n",
       "27      29  Sales of previously owned homes\\ndropped 14.5 ...      0\n",
       "28      30                                                         0\n",
       "29      31                                                         0\n",
       "...    ...                                                ...    ...\n",
       "4770  4971  Central Bank President Jose Luis\\nMachinea sai...      0\n",
       "4771  4972  Shr loss 48 cts vs loss 10 cts\\n    Net loss 1...      1\n",
       "4772  4973  American Motors Corp said its\\nU.S. sales for ...      0\n",
       "4773  4974  Oper shr loss 44 cts vs oper loss eight cts\\n ...      1\n",
       "4774  4975  J.P. Morgan and Co said Peter F.\\nCulver, 42, ...      0\n",
       "4775  4976  SmartNames Inc said it reached\\nan agreement i...      0\n",
       "4776  4977                                                         0\n",
       "4777  4978  </BODY>Auxton Computer Enterprises Inc\\nsaid i...      0\n",
       "4778  4979  Standard and Poor's Corp said it\\nexpects the ...      0\n",
       "4779  4980  H.K. Porter Inc Co said it will\\nredeem its 5-...      0\n",
       "4780  4981  Atlantic Richfield Co said it sold\\nits Plan C...      0\n",
       "4781  4982  GTE Corp said it supports\\nrecommendations by ...      0\n",
       "4782  4983  Construction workers today began building\\na 2...      0\n",
       "4783  4984  The U.S. Agriculture Department's\\nExport Enha...      0\n",
       "4784  4985  <Drexel Burnham Lambert Inc> said\\nduring  the...      0\n",
       "4785  4986  Chrysler Corp's Chrysler Motors unit\\nsaid it ...      0\n",
       "4786  4987  The Netherlands recorded a flat trade\\nbalance...      0\n",
       "4787  4988  A greater than anticipated need,\\ncompetitive ...      0\n",
       "4788  4989  Fairchild Industries Inc said\\nit will close t...      0\n",
       "4789  4990  Qtly div 35 cts vs 35 cts previously\\n    Pay ...      1\n",
       "4790  4991  Qtly div Class B 1-1/2 cts vs 1-1/2 cts prior\\...      1\n",
       "4791  4992  Texas Utilities Co's TU Electric unit\\nsaid it...      0\n",
       "4792  4993  The growth rate of Brazilian\\nindustrial outpu...      0\n",
       "4793  4994  RJR Nabisco Inc is raising 500 mln\\ndlrs via a...      0\n",
       "4794  4995  Britain wants Japan to agree a timetable\\nfor ...      0\n",
       "4795  4996  Loadmaster Systems Inc said Mark\\nA Cote has b...      0\n",
       "4796  4997  Moody's Investors Service Inc said it\\nmay dow...      0\n",
       "4797  4998  Qtly div 15 cts vs 15 cts prior\\n    Pay April...      1\n",
       "4798  4999  Shr 25 cts vs 18 cts\\n    Net 109,131 vs 75,79...      1\n",
       "4799  5000                                                         0\n",
       "\n",
       "[4800 rows x 3 columns]"
      ]
     },
     "execution_count": 1,
     "metadata": {},
     "output_type": "execute_result"
    }
   ],
   "source": [
    "import pandas as pd\n",
    "from lxml import etree\n",
    "\n",
    "# Collect the training data file\n",
    "train_df = pd.read_csv(\"train.csv\")\n",
    "\n",
    "# Ids of the XML files\n",
    "ids = []\n",
    "# Texts contained in each XML file\n",
    "texts = []\n",
    "# Labels associated to the XML file\n",
    "labels = []\n",
    "\n",
    "for sample in train_df.values:\n",
    "    ids.append(sample[0])\n",
    "    # For each XML file referenced in train.csv, collect the text contained in it\n",
    "    xml_file = etree.parse(\"data/\"+sample[1])\n",
    "    xml_text = xml_file.xpath('/BODY')[0].text or ''\n",
    "    texts.append(xml_text)\n",
    "    # The label\n",
    "    labels.append(sample[2])\n",
    "    \n",
    "news_data = pd.DataFrame()\n",
    "news_data['id'] = ids\n",
    "news_data['text'] = texts\n",
    "news_data['label'] = labels\n",
    "news_data"
   ]
  },
  {
   "cell_type": "markdown",
   "metadata": {
    "colab_type": "text",
    "id": "NQniWXABnG6i"
   },
   "source": [
    "## Data Preprocessing"
   ]
  },
  {
   "cell_type": "markdown",
   "metadata": {
    "colab_type": "text",
    "id": "220HOU_l55ZC"
   },
   "source": [
    "Irrespective of the machine learning method we will use, the document need to be represented as a set of features. Here, I will make use of the tf-idf weighting model"
   ]
  },
  {
   "cell_type": "code",
   "execution_count": 2,
   "metadata": {
    "colab": {
     "base_uri": "https://localhost:8080/",
     "height": 227
    },
    "colab_type": "code",
    "id": "D4MhZm5wnG9y",
    "outputId": "8b5f1e72-06e9-4bf0-d92f-3fe8d77d56ed"
   },
   "outputs": [
    {
     "name": "stderr",
     "output_type": "stream",
     "text": [
      "C:\\Users\\deric\\Anaconda3\\lib\\importlib\\_bootstrap.py:219: RuntimeWarning: cymem.cymem.Pool size changed, may indicate binary incompatibility. Expected 48 from C header, got 64 from PyObject\n",
      "  return f(*args, **kwds)\n",
      "C:\\Users\\deric\\Anaconda3\\lib\\importlib\\_bootstrap.py:219: RuntimeWarning: cymem.cymem.Address size changed, may indicate binary incompatibility. Expected 24 from C header, got 40 from PyObject\n",
      "  return f(*args, **kwds)\n"
     ]
    },
    {
     "ename": "ValueError",
     "evalue": "cymem.cymem.Pool has the wrong size, try recompiling. Expected 64, got 48",
     "output_type": "error",
     "traceback": [
      "\u001b[1;31m---------------------------------------------------------------------------\u001b[0m",
      "\u001b[1;31mValueError\u001b[0m                                Traceback (most recent call last)",
      "\u001b[1;32m<ipython-input-2-b845fa83bd28>\u001b[0m in \u001b[0;36m<module>\u001b[1;34m()\u001b[0m\n\u001b[0;32m      1\u001b[0m \u001b[1;31m# pip install spacy\u001b[0m\u001b[1;33m\u001b[0m\u001b[1;33m\u001b[0m\u001b[0m\n\u001b[1;32m----> 2\u001b[1;33m \u001b[1;32mimport\u001b[0m \u001b[0mspacy\u001b[0m\u001b[1;33m\u001b[0m\u001b[0m\n\u001b[0m\u001b[0;32m      3\u001b[0m \u001b[1;32mfrom\u001b[0m \u001b[0mspacy\u001b[0m\u001b[1;33m.\u001b[0m\u001b[0mlemmatizer\u001b[0m \u001b[1;32mimport\u001b[0m \u001b[0mLemmatizer\u001b[0m\u001b[1;33m\u001b[0m\u001b[0m\n\u001b[0;32m      4\u001b[0m \u001b[1;32mfrom\u001b[0m \u001b[0mspacy\u001b[0m\u001b[1;33m.\u001b[0m\u001b[0mlang\u001b[0m\u001b[1;33m.\u001b[0m\u001b[0men\u001b[0m \u001b[1;32mimport\u001b[0m \u001b[0mLEMMA_INDEX\u001b[0m\u001b[1;33m,\u001b[0m \u001b[0mLEMMA_EXC\u001b[0m\u001b[1;33m,\u001b[0m \u001b[0mLEMMA_RULES\u001b[0m\u001b[1;33m\u001b[0m\u001b[0m\n\u001b[0;32m      5\u001b[0m \u001b[1;32mfrom\u001b[0m \u001b[0msklearn\u001b[0m\u001b[1;33m.\u001b[0m\u001b[0mfeature_extraction\u001b[0m\u001b[1;33m.\u001b[0m\u001b[0mtext\u001b[0m \u001b[1;32mimport\u001b[0m \u001b[0mTfidfVectorizer\u001b[0m\u001b[1;33m\u001b[0m\u001b[0m\n",
      "\u001b[1;32m~\\Anaconda3\\lib\\site-packages\\spacy\\__init__.py\u001b[0m in \u001b[0;36m<module>\u001b[1;34m()\u001b[0m\n\u001b[0;32m      5\u001b[0m \u001b[0mwarnings\u001b[0m\u001b[1;33m.\u001b[0m\u001b[0mfilterwarnings\u001b[0m\u001b[1;33m(\u001b[0m\u001b[1;34m\"ignore\"\u001b[0m\u001b[1;33m,\u001b[0m \u001b[0mmessage\u001b[0m\u001b[1;33m=\u001b[0m\u001b[1;34m\"numpy.ufunc size changed\"\u001b[0m\u001b[1;33m)\u001b[0m\u001b[1;33m\u001b[0m\u001b[0m\n\u001b[0;32m      6\u001b[0m \u001b[1;33m\u001b[0m\u001b[0m\n\u001b[1;32m----> 7\u001b[1;33m \u001b[1;32mfrom\u001b[0m \u001b[1;33m.\u001b[0m\u001b[0mcli\u001b[0m\u001b[1;33m.\u001b[0m\u001b[0minfo\u001b[0m \u001b[1;32mimport\u001b[0m \u001b[0minfo\u001b[0m \u001b[1;32mas\u001b[0m \u001b[0mcli_info\u001b[0m\u001b[1;33m\u001b[0m\u001b[0m\n\u001b[0m\u001b[0;32m      8\u001b[0m \u001b[1;32mfrom\u001b[0m \u001b[1;33m.\u001b[0m\u001b[0mglossary\u001b[0m \u001b[1;32mimport\u001b[0m \u001b[0mexplain\u001b[0m\u001b[1;33m\u001b[0m\u001b[0m\n\u001b[0;32m      9\u001b[0m \u001b[1;32mfrom\u001b[0m \u001b[1;33m.\u001b[0m\u001b[0mabout\u001b[0m \u001b[1;32mimport\u001b[0m \u001b[0m__version__\u001b[0m\u001b[1;33m\u001b[0m\u001b[0m\n",
      "\u001b[1;32m~\\Anaconda3\\lib\\site-packages\\spacy\\cli\\__init__.py\u001b[0m in \u001b[0;36m<module>\u001b[1;34m()\u001b[0m\n\u001b[0;32m      4\u001b[0m \u001b[1;32mfrom\u001b[0m \u001b[1;33m.\u001b[0m\u001b[0mpackage\u001b[0m \u001b[1;32mimport\u001b[0m \u001b[0mpackage\u001b[0m\u001b[1;33m\u001b[0m\u001b[0m\n\u001b[0;32m      5\u001b[0m \u001b[1;32mfrom\u001b[0m \u001b[1;33m.\u001b[0m\u001b[0mprofile\u001b[0m \u001b[1;32mimport\u001b[0m \u001b[0mprofile\u001b[0m\u001b[1;33m\u001b[0m\u001b[0m\n\u001b[1;32m----> 6\u001b[1;33m \u001b[1;32mfrom\u001b[0m \u001b[1;33m.\u001b[0m\u001b[0mtrain\u001b[0m \u001b[1;32mimport\u001b[0m \u001b[0mtrain\u001b[0m\u001b[1;33m\u001b[0m\u001b[0m\n\u001b[0m\u001b[0;32m      7\u001b[0m \u001b[1;32mfrom\u001b[0m \u001b[1;33m.\u001b[0m\u001b[0mevaluate\u001b[0m \u001b[1;32mimport\u001b[0m \u001b[0mevaluate\u001b[0m\u001b[1;33m\u001b[0m\u001b[0m\n\u001b[0;32m      8\u001b[0m \u001b[1;32mfrom\u001b[0m \u001b[1;33m.\u001b[0m\u001b[0mconvert\u001b[0m \u001b[1;32mimport\u001b[0m \u001b[0mconvert\u001b[0m\u001b[1;33m\u001b[0m\u001b[0m\n",
      "\u001b[1;32m~\\Anaconda3\\lib\\site-packages\\spacy\\cli\\train.py\u001b[0m in \u001b[0;36m<module>\u001b[1;34m()\u001b[0m\n\u001b[0;32m     10\u001b[0m \u001b[1;32mfrom\u001b[0m \u001b[1;33m.\u001b[0m\u001b[0m_messages\u001b[0m \u001b[1;32mimport\u001b[0m \u001b[0mMessages\u001b[0m\u001b[1;33m\u001b[0m\u001b[0m\n\u001b[0;32m     11\u001b[0m \u001b[1;32mfrom\u001b[0m \u001b[1;33m.\u001b[0m\u001b[1;33m.\u001b[0m\u001b[0mattrs\u001b[0m \u001b[1;32mimport\u001b[0m \u001b[0mPROB\u001b[0m\u001b[1;33m,\u001b[0m \u001b[0mIS_OOV\u001b[0m\u001b[1;33m,\u001b[0m \u001b[0mCLUSTER\u001b[0m\u001b[1;33m,\u001b[0m \u001b[0mLANG\u001b[0m\u001b[1;33m\u001b[0m\u001b[0m\n\u001b[1;32m---> 12\u001b[1;33m \u001b[1;32mfrom\u001b[0m \u001b[1;33m.\u001b[0m\u001b[1;33m.\u001b[0m\u001b[0mgold\u001b[0m \u001b[1;32mimport\u001b[0m \u001b[0mGoldCorpus\u001b[0m\u001b[1;33m,\u001b[0m \u001b[0mminibatch\u001b[0m\u001b[1;33m\u001b[0m\u001b[0m\n\u001b[0m\u001b[0;32m     13\u001b[0m \u001b[1;32mfrom\u001b[0m \u001b[1;33m.\u001b[0m\u001b[1;33m.\u001b[0m\u001b[0mutil\u001b[0m \u001b[1;32mimport\u001b[0m \u001b[0mprints\u001b[0m\u001b[1;33m\u001b[0m\u001b[0m\n\u001b[0;32m     14\u001b[0m \u001b[1;32mfrom\u001b[0m \u001b[1;33m.\u001b[0m\u001b[1;33m.\u001b[0m \u001b[1;32mimport\u001b[0m \u001b[0mutil\u001b[0m\u001b[1;33m\u001b[0m\u001b[0m\n",
      "\u001b[1;32mcymem.pxd\u001b[0m in \u001b[0;36minit spacy.gold\u001b[1;34m()\u001b[0m\n",
      "\u001b[1;31mValueError\u001b[0m: cymem.cymem.Pool has the wrong size, try recompiling. Expected 64, got 48"
     ]
    }
   ],
   "source": [
    "# pip install spacy\n",
    "import spacy\n",
    "from spacy.lemmatizer import Lemmatizer\n",
    "from spacy.lang.en import LEMMA_INDEX, LEMMA_EXC, LEMMA_RULES\n",
    "from sklearn.feature_extraction.text import TfidfVectorizer\n",
    "\n",
    "def lemmatize_document(doc):\n",
    "    # Tokenize the sentence\n",
    "    nlp = spacy.load('en_core_web_sm')\n",
    "    tokens = nlp(doc)\n",
    "    \n",
    "    # Lemmatize each of the word in the sentence\n",
    "    lemmatizer = Lemmatizer(LEMMA_INDEX, LEMMA_EXC, LEMMA_RULES)\n",
    "    lemmas = [lemmatizer(token.text, token.pos_) for token in tokens]\n",
    "    \n",
    "    # Reconstruct the string sentence\n",
    "    new_sentence = \" \".join(lemmas)\n",
    "    \n",
    "    return new_sentence\n",
    "\n",
    "vectorizer = TfidfVectorizer(stop_words='english', preprocessor=stemSentence, max_features=100)\n",
    "X = vectorizer.fit_transform(texts)  # Scipy sparse matrix\n",
    "print(vectorizer.get_feature_names())\n"
   ]
  },
  {
   "cell_type": "code",
   "execution_count": 0,
   "metadata": {
    "colab": {},
    "colab_type": "code",
    "id": "bwzX3eq4nG-t"
   },
   "outputs": [],
   "source": [
    "print(X)"
   ]
  },
  {
   "cell_type": "markdown",
   "metadata": {
    "colab_type": "text",
    "id": "AN-QIyCVnG_a"
   },
   "source": [
    "# Data visualization"
   ]
  },
  {
   "cell_type": "code",
   "execution_count": 0,
   "metadata": {
    "colab": {},
    "colab_type": "code",
    "id": "BA7N9_5bnG_l",
    "outputId": "c655dcae-a31d-4538-b1c1-bc976b2b1142"
   },
   "outputs": [
    {
     "data": {
      "text/plain": [
       "array([[-0.56957504, -1.20789174],\n",
       "       [-0.98752394,  0.96742426],\n",
       "       [-0.21653451, -0.15956995],\n",
       "       ...,\n",
       "       [ 2.55201803,  4.16835764],\n",
       "       [ 6.29876738,  0.17171385],\n",
       "       [ 0.72672973,  0.56601818]])"
      ]
     },
     "execution_count": 8,
     "metadata": {
      "tags": []
     },
     "output_type": "execute_result"
    }
   ],
   "source": [
    "from matplotlib import pyplot as plt\n",
    "from sklearn.decomposition import PCA\n",
    "from sklearn.preprocessing import StandardScaler\n",
    "\n",
    "# Converting scipy sparse matrix to numpy array (for plotting conveniences)\n",
    "rep_X = X.toarray()\n",
    "#print(rep_X)\n",
    "\n",
    "# Standardizing the data\n",
    "rep_X = StandardScaler().fit_transform(rep_X)\n",
    "#print(rep_X)\n",
    "\n",
    "# Projecting to 2D\n",
    "pca = PCA(n_components=2)\n",
    "principalComponents = pca.fit_transform(rep_X)\n",
    "principalComponents"
   ]
  },
  {
   "cell_type": "code",
   "execution_count": 0,
   "metadata": {
    "colab": {},
    "colab_type": "code",
    "id": "RAd64TDwnHAD",
    "outputId": "3f9e693c-ff32-47b7-9e45-cfd6965ffa4a"
   },
   "outputs": [
    {
     "data": {
      "image/png": "[encoded data removed]",
      "text/plain": [
       "<Figure size 576x576 with 1 Axes>"
      ]
     },
     "metadata": {
      "tags": []
     },
     "output_type": "display_data"
    }
   ],
   "source": [
    "# Visualizing in 2D\n",
    "fig = plt.figure(figsize=(8, 8))\n",
    "ax = fig.add_subplot(1, 1, 1)\n",
    "ax.set_xlabel('Principal Component 1', fontsize=15)\n",
    "ax.set_ylabel('Principal Component 2', fontsize=15)\n",
    "ax.set_title('Text data', fontsize=20)\n",
    "\n",
    "targets = ['Others', 'Business opportunity']\n",
    "target_indices = [0, 1]\n",
    "colors = ['r', 'g']\n",
    "for target, color in zip(target_indices, colors):\n",
    "    indicesToKeep = news_data['label'] == target\n",
    "    ax.scatter(principalComponents[indicesToKeep, 0],\n",
    "              principalComponents[indicesToKeep, 1],\n",
    "              c = color,\n",
    "              s = 50)\n",
    "ax.legend(targets)\n",
    "ax.grid()"
   ]
  },
  {
   "cell_type": "markdown",
   "metadata": {
    "colab_type": "text",
    "id": "VptNWLN4nHAi"
   },
   "source": [
    "# Classification"
   ]
  },
  {
   "cell_type": "code",
   "execution_count": 0,
   "metadata": {
    "colab": {},
    "colab_type": "code",
    "id": "vz4rc5QlnHAy"
   },
   "outputs": [],
   "source": [
    "# Split the data into train and test split\n",
    "from sklearn.model_selection import train_test_split\n",
    "\n",
    "y = news_data['label'].values\n",
    "X_train, X_test, y_train, y_test = train_test_split(rep_X, y, test_size=0.33)"
   ]
  },
  {
   "cell_type": "code",
   "execution_count": 0,
   "metadata": {
    "colab": {},
    "colab_type": "code",
    "id": "4ipd0MIynHBK",
    "outputId": "e21d1df2-f2d2-4744-b947-394294f3823b"
   },
   "outputs": [
    {
     "data": {
      "text/plain": [
       "0.972636815920398"
      ]
     },
     "execution_count": 11,
     "metadata": {
      "tags": []
     },
     "output_type": "execute_result"
    }
   ],
   "source": [
    "from sklearn.svm import SVC\n",
    "from sklearn.metrics import accuracy_score\n",
    "\n",
    "clf = SVC()\n",
    "clf.fit(X_train, y_train)\n",
    "# Training accuracy\n",
    "accuracy_score(y_train, clf.predict(X_train))"
   ]
  },
  {
   "cell_type": "code",
   "execution_count": 0,
   "metadata": {
    "colab": {},
    "colab_type": "code",
    "id": "o2XxxaiWnHBn",
    "outputId": "b03b9b09-8bb5-4587-e3de-8739df84d0a1"
   },
   "outputs": [
    {
     "data": {
      "text/plain": [
       "0.9621212121212122"
      ]
     },
     "execution_count": 13,
     "metadata": {
      "tags": []
     },
     "output_type": "execute_result"
    }
   ],
   "source": [
    "# Test accuracy\n",
    "accuracy_score(y_test, clf.predict(X_test))"
   ]
  },
  {
   "cell_type": "code",
   "execution_count": 0,
   "metadata": {
    "colab": {},
    "colab_type": "code",
    "id": "yJWKQncSnHCQ",
    "outputId": "f813fa3c-b815-4231-eb37-3752507754bb"
   },
   "outputs": [
    {
     "name": "stdout",
     "output_type": "stream",
     "text": [
      "Precision: [0.96500778 0.94966443]\n",
      "Recall: [0.98805732 0.86280488]\n",
      "F1-score: [0.97639654 0.90415335]\n"
     ]
    }
   ],
   "source": [
    "from sklearn.metrics import precision_recall_fscore_support\n",
    "\n",
    "precision, recall, fscore, _ = precision_recall_fscore_support(y_test, clf.predict(X_test))\n",
    "print(\"Precision:\", precision)\n",
    "print(\"Recall:\", recall)\n",
    "print(\"F1-score:\", fscore)"
   ]
  }
 ],
 "metadata": {
  "colab": {
   "collapsed_sections": [],
   "name": "Tf-Idf classification_Eric Dasse.ipynb",
   "provenance": [],
   "version": "0.3.2"
  },
  "kernelspec": {
   "display_name": "Python 3",
   "language": "python",
   "name": "python3"
  },
  "language_info": {
   "codemirror_mode": {
    "name": "ipython",
    "version": 3
   },
   "file_extension": ".py",
   "mimetype": "text/x-python",
   "name": "python",
   "nbconvert_exporter": "python",
   "pygments_lexer": "ipython3",
   "version": "3.6.5"
  }
 },
 "nbformat": 4,
 "nbformat_minor": 1
}
